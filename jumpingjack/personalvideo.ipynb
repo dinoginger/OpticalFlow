{
 "cells": [
  {
   "cell_type": "code",
   "execution_count": 1,
   "metadata": {},
   "outputs": [
    {
     "ename": "ModuleNotFoundError",
     "evalue": "No module named 'cv2'",
     "output_type": "error",
     "traceback": [
      "\u001b[1;31m---------------------------------------------------------------------------\u001b[0m",
      "\u001b[1;31mModuleNotFoundError\u001b[0m                       Traceback (most recent call last)",
      "Cell \u001b[1;32mIn[1], line 1\u001b[0m\n\u001b[1;32m----> 1\u001b[0m \u001b[38;5;28;01mimport\u001b[39;00m \u001b[38;5;21;01mcv2\u001b[39;00m\n\u001b[0;32m      2\u001b[0m vidcap \u001b[38;5;241m=\u001b[39m cv2\u001b[38;5;241m.\u001b[39mVideoCapture(\u001b[38;5;124m'\u001b[39m\u001b[38;5;124mCompton.mp4\u001b[39m\u001b[38;5;124m'\u001b[39m)\n\u001b[0;32m      3\u001b[0m success,image \u001b[38;5;241m=\u001b[39m vidcap\u001b[38;5;241m.\u001b[39mread()\n",
      "\u001b[1;31mModuleNotFoundError\u001b[0m: No module named 'cv2'"
     ]
    }
   ],
   "source": [
    "import cv2\n",
    "vidcap = cv2.VideoCapture('Compton.mp4')\n",
    "success,image = vidcap.read()\n",
    "count = 0\n",
    "success = True\n",
    "while success:\n",
    "  success,image = vidcap.read()\n",
    "  cv2.imwrite(\"frame%d.jng\" % count, image)     # save frame as JnG file\n",
    "  if cv2.waitKey(10) == 27:                     # exit if Escape is hit\n",
    "      break\n",
    "  count += 1"
   ]
  },
  {
   "cell_type": "code",
   "execution_count": null,
   "metadata": {},
   "outputs": [],
   "source": [
    "video_path = \"C:/Users/david/OneDrive/Skrivebord/DTU Courses/4th Semester/02526 Mathematical Modelling/IMG_6691.mov\"\n",
    "folder_path = \"C:/Users/david/OneDrive/Skrivebord/DTU Courses/4th Semester/02526 Mathematical Modelling/OpticalFlow/jumpingjack\""
   ]
  },
  {
   "cell_type": "code",
   "execution_count": 7,
   "metadata": {},
   "outputs": [],
   "source": [
    "from moviepy.editor import VideoFileClip\n",
    "import os\n",
    "import imageio\n",
    "import numpy as np\n",
    "\n",
    "def convert_mov_to_png(video_path, folder_path):\n",
    "    if not os.path.exists(video_path):\n",
    "        print(f\"Error: File '{video_path}' does not exist.\")\n",
    "        return\n",
    "\n",
    "    clip = VideoFileClip(video_path)\n",
    "    frames = clip.iter_frames()\n",
    "    for i, frame in enumerate(frames):\n",
    "        # Convert frame to grayscale\n",
    "        gray_frame = np.dot(frame[...,:3], [0.2989, 0.5870, 0.1140])\n",
    "        \n",
    "        output_path = os.path.join(folder_path, f\"frame{i:04d}.png\")\n",
    "        imageio.imwrite(output_path, gray_frame.astype(np.uint8))\n",
    "\n",
    "\n",
    "\n",
    "convert_mov_to_png(\"C:/Users/david/OneDrive/Skrivebord/DTU Courses/4th Semester/02526 Mathematical Modelling/IMG_6691.mov\", \"C:/Users/david/OneDrive/Skrivebord/DTU Courses/4th Semester/02526 Mathematical Modelling/OpticalFlow/jumpingjackgray\")\n"
   ]
  }
 ],
 "metadata": {
  "kernelspec": {
   "display_name": "course02450",
   "language": "python",
   "name": "python3"
  },
  "language_info": {
   "codemirror_mode": {
    "name": "ipython",
    "version": 3
   },
   "file_extension": ".py",
   "mimetype": "text/x-python",
   "name": "python",
   "nbconvert_exporter": "python",
   "pygments_lexer": "ipython3",
   "version": "3.11.5"
  }
 },
 "nbformat": 4,
 "nbformat_minor": 2
}
