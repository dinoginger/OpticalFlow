{
 "cells": [
  {
   "cell_type": "code",
   "execution_count": 1,
   "metadata": {},
   "outputs": [],
   "source": [
    "video_path = \"C:/Users/david/OneDrive/Skrivebord/DTU Courses/4th Semester/02526 Mathematical Modelling/20240217_115039_1.mp4\"\n",
    "folder_path = \"C:/Users/david/OneDrive/Skrivebord/DTU Courses/4th Semester/02526 Mathematical Modelling/OpticalFlow/doggo\"\n"
   ]
  },
  {
   "cell_type": "code",
   "execution_count": 3,
   "metadata": {},
   "outputs": [],
   "source": [
    "from moviepy.editor import VideoFileClip\n",
    "import os\n",
    "import imageio\n",
    "import numpy as np\n",
    "\n",
    "def convert_mov_to_png(video_path, folder_path):\n",
    "    if not os.path.exists(video_path):\n",
    "        print(f\"Error: File '{video_path}' does not exist.\")\n",
    "        return\n",
    "\n",
    "    clip = VideoFileClip(video_path)\n",
    "    frames = clip.iter_frames()\n",
    "    for i, frame in enumerate(frames):\n",
    "        # Convert frame to grayscale\n",
    "        gray_frame = np.dot(frame[...,:3], [0.2989, 0.5870, 0.1140])\n",
    "        \n",
    "        output_path = os.path.join(folder_path, f\"frame{i:04d}.png\")\n",
    "        imageio.imwrite(output_path, gray_frame.astype(np.uint8))\n",
    "\n",
    "\n",
    "convert_mov_to_png(\"C:/Users/david/OneDrive/Skrivebord/DTU Courses/4th Semester/02526 Mathematical Modelling/20240217_115039_1.mp4\", \"C:/Users/david/OneDrive/Skrivebord/DTU Courses/4th Semester/02526 Mathematical Modelling/OpticalFlow/doggo\")\n"
   ]
  }
 ],
 "metadata": {
  "kernelspec": {
   "display_name": "course02450",
   "language": "python",
   "name": "python3"
  },
  "language_info": {
   "codemirror_mode": {
    "name": "ipython",
    "version": 3
   },
   "file_extension": ".py",
   "mimetype": "text/x-python",
   "name": "python",
   "nbconvert_exporter": "python",
   "pygments_lexer": "ipython3",
   "version": "3.11.5"
  }
 },
 "nbformat": 4,
 "nbformat_minor": 2
}
