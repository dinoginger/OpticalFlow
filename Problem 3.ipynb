{
 "cells": [
  {
   "cell_type": "markdown",
   "metadata": {},
   "source": [
    "Problem 3.1\n"
   ]
  },
  {
   "cell_type": "code",
   "execution_count": 13,
   "metadata": {},
   "outputs": [
    {
     "name": "stdout",
     "output_type": "stream",
     "text": [
      "(array([-0.375, -0.375]), array([5.76701269e-05]), 2, array([0.01109187, 0.00554594]))\n"
     ]
    }
   ],
   "source": [
    "import os\n",
    "import numpy as np\n",
    "from PIL import Image\n",
    "from IPython.display import display, clear_output\n",
    "import time\n",
    "import matplotlib.pyplot as plt\n",
    "\n",
    "\n",
    "# Define the directory containing the frames\n",
    "directory = str(os.curdir)+\"/source\"\n",
    "\n",
    "# Get the list of frame files\n",
    "frame_files = sorted([f for f in os.listdir(directory) if f.endswith('.png')])\n",
    "\n",
    "# Function to load and convert an image to grayscale\n",
    "def load_and_convert_image(file_path):\n",
    "    img = Image.open(file_path).convert('L')  # Convert to grayscale\n",
    "    return np.array(img) / 255.0  # Normalize to [0, 1]\n",
    "\n",
    "# Load frames into a list\n",
    "frames = [load_and_convert_image(os.path.join(directory, frame)) for frame in frame_files]\n",
    "\n",
    "# Calculate gradients for all the frames (taken from problem 2)\n",
    "# Calculate Vx, Vy, Vt\n",
    "Vx_list, Vy_list, Vt_list = [], [], []\n",
    "\n",
    "for i in range(1, len(frames)):\n",
    "    Vx = frames[i][:, 1:] - frames[i][:, :-1]\n",
    "    Vy = frames[i][1:, :] - frames[i][:-1, :]\n",
    "    Vt = frames[i] - frames[i - 1]\n",
    "\n",
    "    Vx_list.append(Vx)\n",
    "    Vy_list.append(Vy)\n",
    "    Vt_list.append(Vt)\n",
    "\n",
    "def get_gradients_of_region(p, N, frameIndex, Vx_list, Vy_list, Vt_list):\n",
    "    # Returns the gradiens for selected region with center of coordinate p.\n",
    "    bottom_x = max(0, p[0] - round(N/2))\n",
    "    top_x = min(p[0]+round(N/2), Vx_list[frameIndex].shape[1]) # frame.shape[1] corresponds to width.\n",
    "    bottom_y = max(0, p[1] - round(N/2))\n",
    "    top_y = min(p[1]+round(N/2), Vx_list[frameIndex].shape[0]) # frame.shape[0] corresponds to height\n",
    "    \n",
    "    # now just parse Vx, Vy and Vt for given frame and extract the region\n",
    "\n",
    "    # Extract the regions\n",
    "    region_Vx = Vx_list[frameIndex][bottom_y:top_y, bottom_x:top_y]\n",
    "    region_Vy = Vy_list[frameIndex][bottom_y:top_y, bottom_x:top_y]\n",
    "    region_Vt = Vt_list[frameIndex][bottom_y:top_y, bottom_x:top_y]\n",
    "    \n",
    "    return (region_Vx, region_Vy, region_Vt)\n",
    "\n",
    "# Define our N \n",
    "N = 4\n",
    "A = []\n",
    "b = []\n",
    "\n",
    "Vx_region, Vy_region, Vt_region =  get_gradients_of_region(p=(50,50),N=N,frameIndex=3, Vx_list=Vx_list, Vy_list=Vy_list, Vt_list=Vt_list)\n",
    "\n",
    "for i in range(N):\n",
    "    for j in range(N):\n",
    "        A.append([Vx_region[i][j], Vy_region[i][j]])\n",
    "        b.append(Vt_region[i][j])\n",
    "result = np.linalg.lstsq(A,b, rcond=None)[0]\n",
    "print(result)\n",
    "\n",
    "# Plot the resulting vector - ??? "
   ]
  }
 ],
 "metadata": {
  "kernelspec": {
   "display_name": "course02450",
   "language": "python",
   "name": "python3"
  },
  "language_info": {
   "codemirror_mode": {
    "name": "ipython",
    "version": 3
   },
   "file_extension": ".py",
   "mimetype": "text/x-python",
   "name": "python",
   "nbconvert_exporter": "python",
   "pygments_lexer": "ipython3",
   "version": "3.9.7"
  }
 },
 "nbformat": 4,
 "nbformat_minor": 2
}
